{
 "cells": [
  {
   "cell_type": "code",
   "execution_count": 27,
   "id": "389c200c-e5a7-432e-9a7b-7000055c4ed7",
   "metadata": {},
   "outputs": [],
   "source": [
    "import pickle"
   ]
  },
  {
   "cell_type": "code",
   "execution_count": 28,
   "id": "308a9772-5dda-4f2f-85f5-82d5d8c73314",
   "metadata": {},
   "outputs": [],
   "source": [
    "sc=pickle.load(open(\"inputpreprocessing_file.sav\",'rb'))"
   ]
  },
  {
   "cell_type": "code",
   "execution_count": 29,
   "id": "49b34610-4e33-43be-9f08-874a9e7e96ab",
   "metadata": {},
   "outputs": [
    {
     "name": "stderr",
     "output_type": "stream",
     "text": [
      "C:\\Anaconda\\Lib\\site-packages\\sklearn\\base.py:493: UserWarning: X does not have valid feature names, but StandardScaler was fitted with feature names\n",
      "  warnings.warn(\n"
     ]
    }
   ],
   "source": [
    "preinput=sc.transform([[30,25,3,1,0]])"
   ]
  },
  {
   "cell_type": "code",
   "execution_count": 30,
   "id": "8fb5f5c7-0bfc-4902-ae26-8229fe0b4070",
   "metadata": {},
   "outputs": [],
   "source": [
    "loaded_model=pickle.load(open(\"preprocess_svm.sav\",'rb'))"
   ]
  },
  {
   "cell_type": "code",
   "execution_count": 31,
   "id": "019dceb5-726d-4058-86f1-78f7ee02fed8",
   "metadata": {},
   "outputs": [],
   "source": [
    "result=loaded_model.predict(preinput)\n"
   ]
  },
  {
   "cell_type": "code",
   "execution_count": 32,
   "id": "fea5160d-7fe0-4458-bb7a-2789609b3f18",
   "metadata": {},
   "outputs": [
    {
     "data": {
      "text/plain": [
       "array([-0.63986224])"
      ]
     },
     "execution_count": 32,
     "metadata": {},
     "output_type": "execute_result"
    }
   ],
   "source": [
    "result"
   ]
  },
  {
   "cell_type": "code",
   "execution_count": 33,
   "id": "60382fa3-e7b2-436e-8293-a525d374c7f0",
   "metadata": {},
   "outputs": [],
   "source": [
    "scy=pickle.load(open(\"outputpreprocessing_file.sav\",'rb'))"
   ]
  },
  {
   "cell_type": "code",
   "execution_count": 34,
   "id": "f91f9ec6-89a6-4167-aa20-3b4514845131",
   "metadata": {},
   "outputs": [],
   "source": [
    "invoutput=scy.inverse_transform([result])"
   ]
  },
  {
   "cell_type": "code",
   "execution_count": 35,
   "id": "a8e421e0-9e40-425f-9f29-edaa834f2447",
   "metadata": {},
   "outputs": [
    {
     "data": {
      "text/plain": [
       "array([[5635.34423844]])"
      ]
     },
     "execution_count": 35,
     "metadata": {},
     "output_type": "execute_result"
    }
   ],
   "source": [
    "invoutput"
   ]
  },
  {
   "cell_type": "code",
   "execution_count": null,
   "id": "5a2ae777-2fed-4869-af00-4abdfff4bad5",
   "metadata": {},
   "outputs": [],
   "source": []
  }
 ],
 "metadata": {
  "kernelspec": {
   "display_name": "Python 3 (ipykernel)",
   "language": "python",
   "name": "python3"
  },
  "language_info": {
   "codemirror_mode": {
    "name": "ipython",
    "version": 3
   },
   "file_extension": ".py",
   "mimetype": "text/x-python",
   "name": "python",
   "nbconvert_exporter": "python",
   "pygments_lexer": "ipython3",
   "version": "3.12.4"
  }
 },
 "nbformat": 4,
 "nbformat_minor": 5
}
